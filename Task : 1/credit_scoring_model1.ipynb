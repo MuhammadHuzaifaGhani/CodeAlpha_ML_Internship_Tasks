{
 "cells": [
  {
   "cell_type": "markdown",
   "id": "2507afac",
   "metadata": {},
   "source": [
    "Step 1: Load & Explore Data"
   ]
  },
  {
   "cell_type": "code",
   "execution_count": 74,
   "id": "ed21afd5",
   "metadata": {},
   "outputs": [],
   "source": [
    "# Imp0rt necessary libraries\n",
    "import pandas as pd\n",
    "import numpy as np\n",
    "import matplotlib.pyplot as plt\n",
    "import seaborn as sns\n",
    "import joblib\n",
    "from sklearn.model_selection import train_test_split\n",
    "from sklearn.preprocessing import  LabelEncoder\n",
    "from sklearn.metrics import classification_report, confusion_matrix, roc_curve, auc\n",
    "from sklearn.linear_model import LogisticRegression\n",
    "from sklearn.tree import DecisionTreeClassifier\n",
    "from sklearn.ensemble import RandomForestClassifier\n"
   ]
  },
  {
   "cell_type": "code",
   "execution_count": 75,
   "id": "60e2f608",
   "metadata": {},
   "outputs": [
    {
     "data": {
      "text/html": [
       "<div>\n",
       "<style scoped>\n",
       "    .dataframe tbody tr th:only-of-type {\n",
       "        vertical-align: middle;\n",
       "    }\n",
       "\n",
       "    .dataframe tbody tr th {\n",
       "        vertical-align: top;\n",
       "    }\n",
       "\n",
       "    .dataframe thead th {\n",
       "        text-align: right;\n",
       "    }\n",
       "</style>\n",
       "<table border=\"1\" class=\"dataframe\">\n",
       "  <thead>\n",
       "    <tr style=\"text-align: right;\">\n",
       "      <th></th>\n",
       "      <th>Income</th>\n",
       "      <th>Debt</th>\n",
       "      <th>Payment_History</th>\n",
       "      <th>Loan_Amount</th>\n",
       "      <th>Debt_to_Income</th>\n",
       "      <th>Loan_to_Income</th>\n",
       "      <th>High_Debt_Flag</th>\n",
       "      <th>High_Loan_Flag</th>\n",
       "      <th>Age</th>\n",
       "      <th>Creditworthy</th>\n",
       "    </tr>\n",
       "  </thead>\n",
       "  <tbody>\n",
       "    <tr>\n",
       "      <th>0</th>\n",
       "      <td>50000</td>\n",
       "      <td>10000</td>\n",
       "      <td>Good</td>\n",
       "      <td>15000</td>\n",
       "      <td>0</td>\n",
       "      <td>0</td>\n",
       "      <td>0</td>\n",
       "      <td>0</td>\n",
       "      <td>44</td>\n",
       "      <td>1</td>\n",
       "    </tr>\n",
       "    <tr>\n",
       "      <th>1</th>\n",
       "      <td>42000</td>\n",
       "      <td>11500</td>\n",
       "      <td>Good</td>\n",
       "      <td>12000</td>\n",
       "      <td>0</td>\n",
       "      <td>0</td>\n",
       "      <td>0</td>\n",
       "      <td>0</td>\n",
       "      <td>29</td>\n",
       "      <td>1</td>\n",
       "    </tr>\n",
       "    <tr>\n",
       "      <th>2</th>\n",
       "      <td>44500</td>\n",
       "      <td>15000</td>\n",
       "      <td>Average</td>\n",
       "      <td>20000</td>\n",
       "      <td>0</td>\n",
       "      <td>0</td>\n",
       "      <td>0</td>\n",
       "      <td>1</td>\n",
       "      <td>36</td>\n",
       "      <td>0</td>\n",
       "    </tr>\n",
       "    <tr>\n",
       "      <th>3</th>\n",
       "      <td>60000</td>\n",
       "      <td>5000</td>\n",
       "      <td>Good</td>\n",
       "      <td>10000</td>\n",
       "      <td>0</td>\n",
       "      <td>0</td>\n",
       "      <td>0</td>\n",
       "      <td>0</td>\n",
       "      <td>47</td>\n",
       "      <td>1</td>\n",
       "    </tr>\n",
       "    <tr>\n",
       "      <th>4</th>\n",
       "      <td>25000</td>\n",
       "      <td>12000</td>\n",
       "      <td>Bad</td>\n",
       "      <td>16500</td>\n",
       "      <td>0</td>\n",
       "      <td>0</td>\n",
       "      <td>1</td>\n",
       "      <td>1</td>\n",
       "      <td>29</td>\n",
       "      <td>0</td>\n",
       "    </tr>\n",
       "  </tbody>\n",
       "</table>\n",
       "</div>"
      ],
      "text/plain": [
       "   Income   Debt Payment_History  Loan_Amount  Debt_to_Income  Loan_to_Income  \\\n",
       "0   50000  10000            Good        15000               0               0   \n",
       "1   42000  11500            Good        12000               0               0   \n",
       "2   44500  15000         Average        20000               0               0   \n",
       "3   60000   5000            Good        10000               0               0   \n",
       "4   25000  12000             Bad        16500               0               0   \n",
       "\n",
       "   High_Debt_Flag  High_Loan_Flag  Age  Creditworthy  \n",
       "0               0               0   44             1  \n",
       "1               0               0   29             1  \n",
       "2               0               1   36             0  \n",
       "3               0               0   47             1  \n",
       "4               1               1   29             0  "
      ]
     },
     "execution_count": 75,
     "metadata": {},
     "output_type": "execute_result"
    }
   ],
   "source": [
    "# Load CSV file\n",
    "data = pd.read_csv(\"C:\\\\Users\\\\1 Click\\\\Desktop\\\\CodeAlpha\\\\credit_scoring_dataset_expanded.csv\")\n",
    "\n",
    "# Display first few rows\n",
    "data.head()\n"
   ]
  },
  {
   "cell_type": "markdown",
   "id": "31b8cb6f",
   "metadata": {},
   "source": [
    "Step 2: Data Cleaning"
   ]
  },
  {
   "cell_type": "code",
   "execution_count": 76,
   "id": "00dae38d",
   "metadata": {},
   "outputs": [
    {
     "data": {
      "text/plain": [
       "Income             0.0\n",
       "Debt               0.0\n",
       "Payment_History    0.0\n",
       "Loan_Amount        0.0\n",
       "Debt_to_Income     0.0\n",
       "Loan_to_Income     0.0\n",
       "High_Debt_Flag     0.0\n",
       "High_Loan_Flag     0.0\n",
       "Age                0.0\n",
       "Creditworthy       0.0\n",
       "dtype: float64"
      ]
     },
     "execution_count": 76,
     "metadata": {},
     "output_type": "execute_result"
    }
   ],
   "source": [
    "data.isnull().mean()*100"
   ]
  },
  {
   "cell_type": "code",
   "execution_count": 77,
   "id": "fd8103dc",
   "metadata": {},
   "outputs": [
    {
     "data": {
      "text/plain": [
       "np.int64(0)"
      ]
     },
     "execution_count": 77,
     "metadata": {},
     "output_type": "execute_result"
    }
   ],
   "source": [
    "data.duplicated().sum()"
   ]
  },
  {
   "cell_type": "code",
   "execution_count": 78,
   "id": "607b9e07",
   "metadata": {},
   "outputs": [
    {
     "name": "stdout",
     "output_type": "stream",
     "text": [
      "<class 'pandas.core.frame.DataFrame'>\n",
      "RangeIndex: 4000 entries, 0 to 3999\n",
      "Data columns (total 10 columns):\n",
      " #   Column           Non-Null Count  Dtype \n",
      "---  ------           --------------  ----- \n",
      " 0   Income           4000 non-null   int64 \n",
      " 1   Debt             4000 non-null   int64 \n",
      " 2   Payment_History  4000 non-null   object\n",
      " 3   Loan_Amount      4000 non-null   int64 \n",
      " 4   Debt_to_Income   4000 non-null   int64 \n",
      " 5   Loan_to_Income   4000 non-null   int64 \n",
      " 6   High_Debt_Flag   4000 non-null   int64 \n",
      " 7   High_Loan_Flag   4000 non-null   int64 \n",
      " 8   Age              4000 non-null   int64 \n",
      " 9   Creditworthy     4000 non-null   int64 \n",
      "dtypes: int64(9), object(1)\n",
      "memory usage: 312.6+ KB\n"
     ]
    },
    {
     "data": {
      "text/html": [
       "<div>\n",
       "<style scoped>\n",
       "    .dataframe tbody tr th:only-of-type {\n",
       "        vertical-align: middle;\n",
       "    }\n",
       "\n",
       "    .dataframe tbody tr th {\n",
       "        vertical-align: top;\n",
       "    }\n",
       "\n",
       "    .dataframe thead th {\n",
       "        text-align: right;\n",
       "    }\n",
       "</style>\n",
       "<table border=\"1\" class=\"dataframe\">\n",
       "  <thead>\n",
       "    <tr style=\"text-align: right;\">\n",
       "      <th></th>\n",
       "      <th>Income</th>\n",
       "      <th>Debt</th>\n",
       "      <th>Payment_History</th>\n",
       "      <th>Loan_Amount</th>\n",
       "      <th>Debt_to_Income</th>\n",
       "      <th>Loan_to_Income</th>\n",
       "      <th>High_Debt_Flag</th>\n",
       "      <th>High_Loan_Flag</th>\n",
       "      <th>Age</th>\n",
       "      <th>Creditworthy</th>\n",
       "    </tr>\n",
       "  </thead>\n",
       "  <tbody>\n",
       "    <tr>\n",
       "      <th>count</th>\n",
       "      <td>4000.000000</td>\n",
       "      <td>4000.000000</td>\n",
       "      <td>4000</td>\n",
       "      <td>4000.000000</td>\n",
       "      <td>4000.000000</td>\n",
       "      <td>4000.000000</td>\n",
       "      <td>4000.000000</td>\n",
       "      <td>4000.000000</td>\n",
       "      <td>4000.000000</td>\n",
       "      <td>4000.000000</td>\n",
       "    </tr>\n",
       "    <tr>\n",
       "      <th>unique</th>\n",
       "      <td>NaN</td>\n",
       "      <td>NaN</td>\n",
       "      <td>3</td>\n",
       "      <td>NaN</td>\n",
       "      <td>NaN</td>\n",
       "      <td>NaN</td>\n",
       "      <td>NaN</td>\n",
       "      <td>NaN</td>\n",
       "      <td>NaN</td>\n",
       "      <td>NaN</td>\n",
       "    </tr>\n",
       "    <tr>\n",
       "      <th>top</th>\n",
       "      <td>NaN</td>\n",
       "      <td>NaN</td>\n",
       "      <td>Good</td>\n",
       "      <td>NaN</td>\n",
       "      <td>NaN</td>\n",
       "      <td>NaN</td>\n",
       "      <td>NaN</td>\n",
       "      <td>NaN</td>\n",
       "      <td>NaN</td>\n",
       "      <td>NaN</td>\n",
       "    </tr>\n",
       "    <tr>\n",
       "      <th>freq</th>\n",
       "      <td>NaN</td>\n",
       "      <td>NaN</td>\n",
       "      <td>2249</td>\n",
       "      <td>NaN</td>\n",
       "      <td>NaN</td>\n",
       "      <td>NaN</td>\n",
       "      <td>NaN</td>\n",
       "      <td>NaN</td>\n",
       "      <td>NaN</td>\n",
       "      <td>NaN</td>\n",
       "    </tr>\n",
       "    <tr>\n",
       "      <th>mean</th>\n",
       "      <td>73274.800250</td>\n",
       "      <td>32392.929750</td>\n",
       "      <td>NaN</td>\n",
       "      <td>43108.345500</td>\n",
       "      <td>0.209500</td>\n",
       "      <td>0.347000</td>\n",
       "      <td>0.479750</td>\n",
       "      <td>0.741500</td>\n",
       "      <td>41.220000</td>\n",
       "      <td>0.193750</td>\n",
       "    </tr>\n",
       "    <tr>\n",
       "      <th>std</th>\n",
       "      <td>38289.404518</td>\n",
       "      <td>23357.244654</td>\n",
       "      <td>NaN</td>\n",
       "      <td>28772.528503</td>\n",
       "      <td>0.581115</td>\n",
       "      <td>0.782141</td>\n",
       "      <td>0.499652</td>\n",
       "      <td>0.437865</td>\n",
       "      <td>13.832224</td>\n",
       "      <td>0.395285</td>\n",
       "    </tr>\n",
       "    <tr>\n",
       "      <th>min</th>\n",
       "      <td>5000.000000</td>\n",
       "      <td>60.000000</td>\n",
       "      <td>NaN</td>\n",
       "      <td>1592.000000</td>\n",
       "      <td>0.000000</td>\n",
       "      <td>0.000000</td>\n",
       "      <td>0.000000</td>\n",
       "      <td>0.000000</td>\n",
       "      <td>18.000000</td>\n",
       "      <td>0.000000</td>\n",
       "    </tr>\n",
       "    <tr>\n",
       "      <th>25%</th>\n",
       "      <td>41663.750000</td>\n",
       "      <td>12286.250000</td>\n",
       "      <td>NaN</td>\n",
       "      <td>17248.000000</td>\n",
       "      <td>0.000000</td>\n",
       "      <td>0.000000</td>\n",
       "      <td>0.000000</td>\n",
       "      <td>0.000000</td>\n",
       "      <td>31.000000</td>\n",
       "      <td>0.000000</td>\n",
       "    </tr>\n",
       "    <tr>\n",
       "      <th>50%</th>\n",
       "      <td>64811.500000</td>\n",
       "      <td>25521.000000</td>\n",
       "      <td>NaN</td>\n",
       "      <td>35645.000000</td>\n",
       "      <td>0.000000</td>\n",
       "      <td>0.000000</td>\n",
       "      <td>0.000000</td>\n",
       "      <td>1.000000</td>\n",
       "      <td>39.000000</td>\n",
       "      <td>0.000000</td>\n",
       "    </tr>\n",
       "    <tr>\n",
       "      <th>75%</th>\n",
       "      <td>104845.000000</td>\n",
       "      <td>51719.500000</td>\n",
       "      <td>NaN</td>\n",
       "      <td>68011.250000</td>\n",
       "      <td>0.000000</td>\n",
       "      <td>0.000000</td>\n",
       "      <td>1.000000</td>\n",
       "      <td>1.000000</td>\n",
       "      <td>52.000000</td>\n",
       "      <td>0.000000</td>\n",
       "    </tr>\n",
       "    <tr>\n",
       "      <th>max</th>\n",
       "      <td>149869.000000</td>\n",
       "      <td>79980.000000</td>\n",
       "      <td>NaN</td>\n",
       "      <td>99990.000000</td>\n",
       "      <td>5.000000</td>\n",
       "      <td>6.000000</td>\n",
       "      <td>1.000000</td>\n",
       "      <td>1.000000</td>\n",
       "      <td>69.000000</td>\n",
       "      <td>1.000000</td>\n",
       "    </tr>\n",
       "  </tbody>\n",
       "</table>\n",
       "</div>"
      ],
      "text/plain": [
       "               Income          Debt Payment_History   Loan_Amount  \\\n",
       "count     4000.000000   4000.000000            4000   4000.000000   \n",
       "unique            NaN           NaN               3           NaN   \n",
       "top               NaN           NaN            Good           NaN   \n",
       "freq              NaN           NaN            2249           NaN   \n",
       "mean     73274.800250  32392.929750             NaN  43108.345500   \n",
       "std      38289.404518  23357.244654             NaN  28772.528503   \n",
       "min       5000.000000     60.000000             NaN   1592.000000   \n",
       "25%      41663.750000  12286.250000             NaN  17248.000000   \n",
       "50%      64811.500000  25521.000000             NaN  35645.000000   \n",
       "75%     104845.000000  51719.500000             NaN  68011.250000   \n",
       "max     149869.000000  79980.000000             NaN  99990.000000   \n",
       "\n",
       "        Debt_to_Income  Loan_to_Income  High_Debt_Flag  High_Loan_Flag  \\\n",
       "count      4000.000000     4000.000000     4000.000000     4000.000000   \n",
       "unique             NaN             NaN             NaN             NaN   \n",
       "top                NaN             NaN             NaN             NaN   \n",
       "freq               NaN             NaN             NaN             NaN   \n",
       "mean          0.209500        0.347000        0.479750        0.741500   \n",
       "std           0.581115        0.782141        0.499652        0.437865   \n",
       "min           0.000000        0.000000        0.000000        0.000000   \n",
       "25%           0.000000        0.000000        0.000000        0.000000   \n",
       "50%           0.000000        0.000000        0.000000        1.000000   \n",
       "75%           0.000000        0.000000        1.000000        1.000000   \n",
       "max           5.000000        6.000000        1.000000        1.000000   \n",
       "\n",
       "                Age  Creditworthy  \n",
       "count   4000.000000   4000.000000  \n",
       "unique          NaN           NaN  \n",
       "top             NaN           NaN  \n",
       "freq            NaN           NaN  \n",
       "mean      41.220000      0.193750  \n",
       "std       13.832224      0.395285  \n",
       "min       18.000000      0.000000  \n",
       "25%       31.000000      0.000000  \n",
       "50%       39.000000      0.000000  \n",
       "75%       52.000000      0.000000  \n",
       "max       69.000000      1.000000  "
      ]
     },
     "execution_count": 78,
     "metadata": {},
     "output_type": "execute_result"
    }
   ],
   "source": [
    "# Dataset overview\n",
    "data.info()\n",
    "data.describe(include='all')\n"
   ]
  },
  {
   "cell_type": "markdown",
   "id": "643a4499",
   "metadata": {},
   "source": [
    "Step 3: Encode Categorical Features"
   ]
  },
  {
   "cell_type": "code",
   "execution_count": 79,
   "id": "92e26f8e",
   "metadata": {},
   "outputs": [
    {
     "data": {
      "text/plain": [
       "Payment_History\n",
       "Good       2249\n",
       "Average    1068\n",
       "Bad         683\n",
       "Name: count, dtype: int64"
      ]
     },
     "execution_count": 79,
     "metadata": {},
     "output_type": "execute_result"
    }
   ],
   "source": [
    "data['Payment_History'].value_counts()"
   ]
  },
  {
   "cell_type": "code",
   "execution_count": 80,
   "id": "b90e5366",
   "metadata": {},
   "outputs": [],
   "source": [
    "le = LabelEncoder()\n",
    "data['Payment_History'] = le.fit_transform(data['Payment_History'])"
   ]
  },
  {
   "cell_type": "code",
   "execution_count": 81,
   "id": "87138567",
   "metadata": {},
   "outputs": [
    {
     "name": "stdout",
     "output_type": "stream",
     "text": [
      "<class 'pandas.core.frame.DataFrame'>\n",
      "RangeIndex: 4000 entries, 0 to 3999\n",
      "Data columns (total 10 columns):\n",
      " #   Column           Non-Null Count  Dtype\n",
      "---  ------           --------------  -----\n",
      " 0   Income           4000 non-null   int64\n",
      " 1   Debt             4000 non-null   int64\n",
      " 2   Payment_History  4000 non-null   int64\n",
      " 3   Loan_Amount      4000 non-null   int64\n",
      " 4   Debt_to_Income   4000 non-null   int64\n",
      " 5   Loan_to_Income   4000 non-null   int64\n",
      " 6   High_Debt_Flag   4000 non-null   int64\n",
      " 7   High_Loan_Flag   4000 non-null   int64\n",
      " 8   Age              4000 non-null   int64\n",
      " 9   Creditworthy     4000 non-null   int64\n",
      "dtypes: int64(10)\n",
      "memory usage: 312.6 KB\n"
     ]
    }
   ],
   "source": [
    "data.info()"
   ]
  },
  {
   "cell_type": "markdown",
   "id": "340e2a4e",
   "metadata": {},
   "source": [
    "Step 4: Split Data into Training and Testing Sets"
   ]
  },
  {
   "cell_type": "code",
   "execution_count": 82,
   "id": "6c44f4ab",
   "metadata": {},
   "outputs": [],
   "source": [
    "# Separate features & target variable\n",
    "X = data.drop(\"Creditworthy\", axis=1)\n",
    "y = data[\"Creditworthy\"]"
   ]
  },
  {
   "cell_type": "code",
   "execution_count": 83,
   "id": "2c85243f",
   "metadata": {},
   "outputs": [
    {
     "data": {
      "text/html": [
       "<div>\n",
       "<style scoped>\n",
       "    .dataframe tbody tr th:only-of-type {\n",
       "        vertical-align: middle;\n",
       "    }\n",
       "\n",
       "    .dataframe tbody tr th {\n",
       "        vertical-align: top;\n",
       "    }\n",
       "\n",
       "    .dataframe thead th {\n",
       "        text-align: right;\n",
       "    }\n",
       "</style>\n",
       "<table border=\"1\" class=\"dataframe\">\n",
       "  <thead>\n",
       "    <tr style=\"text-align: right;\">\n",
       "      <th></th>\n",
       "      <th>Income</th>\n",
       "      <th>Debt</th>\n",
       "      <th>Payment_History</th>\n",
       "      <th>Loan_Amount</th>\n",
       "      <th>Debt_to_Income</th>\n",
       "      <th>Loan_to_Income</th>\n",
       "      <th>High_Debt_Flag</th>\n",
       "      <th>High_Loan_Flag</th>\n",
       "      <th>Age</th>\n",
       "    </tr>\n",
       "  </thead>\n",
       "  <tbody>\n",
       "    <tr>\n",
       "      <th>0</th>\n",
       "      <td>50000</td>\n",
       "      <td>10000</td>\n",
       "      <td>2</td>\n",
       "      <td>15000</td>\n",
       "      <td>0</td>\n",
       "      <td>0</td>\n",
       "      <td>0</td>\n",
       "      <td>0</td>\n",
       "      <td>44</td>\n",
       "    </tr>\n",
       "    <tr>\n",
       "      <th>1</th>\n",
       "      <td>42000</td>\n",
       "      <td>11500</td>\n",
       "      <td>2</td>\n",
       "      <td>12000</td>\n",
       "      <td>0</td>\n",
       "      <td>0</td>\n",
       "      <td>0</td>\n",
       "      <td>0</td>\n",
       "      <td>29</td>\n",
       "    </tr>\n",
       "    <tr>\n",
       "      <th>2</th>\n",
       "      <td>44500</td>\n",
       "      <td>15000</td>\n",
       "      <td>0</td>\n",
       "      <td>20000</td>\n",
       "      <td>0</td>\n",
       "      <td>0</td>\n",
       "      <td>0</td>\n",
       "      <td>1</td>\n",
       "      <td>36</td>\n",
       "    </tr>\n",
       "    <tr>\n",
       "      <th>3</th>\n",
       "      <td>60000</td>\n",
       "      <td>5000</td>\n",
       "      <td>2</td>\n",
       "      <td>10000</td>\n",
       "      <td>0</td>\n",
       "      <td>0</td>\n",
       "      <td>0</td>\n",
       "      <td>0</td>\n",
       "      <td>47</td>\n",
       "    </tr>\n",
       "    <tr>\n",
       "      <th>4</th>\n",
       "      <td>25000</td>\n",
       "      <td>12000</td>\n",
       "      <td>1</td>\n",
       "      <td>16500</td>\n",
       "      <td>0</td>\n",
       "      <td>0</td>\n",
       "      <td>1</td>\n",
       "      <td>1</td>\n",
       "      <td>29</td>\n",
       "    </tr>\n",
       "    <tr>\n",
       "      <th>...</th>\n",
       "      <td>...</td>\n",
       "      <td>...</td>\n",
       "      <td>...</td>\n",
       "      <td>...</td>\n",
       "      <td>...</td>\n",
       "      <td>...</td>\n",
       "      <td>...</td>\n",
       "      <td>...</td>\n",
       "      <td>...</td>\n",
       "    </tr>\n",
       "    <tr>\n",
       "      <th>3995</th>\n",
       "      <td>100774</td>\n",
       "      <td>31169</td>\n",
       "      <td>2</td>\n",
       "      <td>68001</td>\n",
       "      <td>0</td>\n",
       "      <td>0</td>\n",
       "      <td>0</td>\n",
       "      <td>1</td>\n",
       "      <td>46</td>\n",
       "    </tr>\n",
       "    <tr>\n",
       "      <th>3996</th>\n",
       "      <td>141374</td>\n",
       "      <td>45641</td>\n",
       "      <td>2</td>\n",
       "      <td>63282</td>\n",
       "      <td>0</td>\n",
       "      <td>0</td>\n",
       "      <td>0</td>\n",
       "      <td>1</td>\n",
       "      <td>29</td>\n",
       "    </tr>\n",
       "    <tr>\n",
       "      <th>3997</th>\n",
       "      <td>106118</td>\n",
       "      <td>22990</td>\n",
       "      <td>2</td>\n",
       "      <td>9899</td>\n",
       "      <td>0</td>\n",
       "      <td>0</td>\n",
       "      <td>0</td>\n",
       "      <td>0</td>\n",
       "      <td>18</td>\n",
       "    </tr>\n",
       "    <tr>\n",
       "      <th>3998</th>\n",
       "      <td>80942</td>\n",
       "      <td>29661</td>\n",
       "      <td>2</td>\n",
       "      <td>33582</td>\n",
       "      <td>0</td>\n",
       "      <td>0</td>\n",
       "      <td>0</td>\n",
       "      <td>1</td>\n",
       "      <td>18</td>\n",
       "    </tr>\n",
       "    <tr>\n",
       "      <th>3999</th>\n",
       "      <td>28689</td>\n",
       "      <td>13419</td>\n",
       "      <td>2</td>\n",
       "      <td>72471</td>\n",
       "      <td>0</td>\n",
       "      <td>2</td>\n",
       "      <td>1</td>\n",
       "      <td>1</td>\n",
       "      <td>27</td>\n",
       "    </tr>\n",
       "  </tbody>\n",
       "</table>\n",
       "<p>4000 rows × 9 columns</p>\n",
       "</div>"
      ],
      "text/plain": [
       "      Income   Debt  Payment_History  Loan_Amount  Debt_to_Income  \\\n",
       "0      50000  10000                2        15000               0   \n",
       "1      42000  11500                2        12000               0   \n",
       "2      44500  15000                0        20000               0   \n",
       "3      60000   5000                2        10000               0   \n",
       "4      25000  12000                1        16500               0   \n",
       "...      ...    ...              ...          ...             ...   \n",
       "3995  100774  31169                2        68001               0   \n",
       "3996  141374  45641                2        63282               0   \n",
       "3997  106118  22990                2         9899               0   \n",
       "3998   80942  29661                2        33582               0   \n",
       "3999   28689  13419                2        72471               0   \n",
       "\n",
       "      Loan_to_Income  High_Debt_Flag  High_Loan_Flag  Age  \n",
       "0                  0               0               0   44  \n",
       "1                  0               0               0   29  \n",
       "2                  0               0               1   36  \n",
       "3                  0               0               0   47  \n",
       "4                  0               1               1   29  \n",
       "...              ...             ...             ...  ...  \n",
       "3995               0               0               1   46  \n",
       "3996               0               0               1   29  \n",
       "3997               0               0               0   18  \n",
       "3998               0               0               1   18  \n",
       "3999               2               1               1   27  \n",
       "\n",
       "[4000 rows x 9 columns]"
      ]
     },
     "execution_count": 83,
     "metadata": {},
     "output_type": "execute_result"
    }
   ],
   "source": [
    "X"
   ]
  },
  {
   "cell_type": "code",
   "execution_count": 84,
   "id": "ae38ceba",
   "metadata": {},
   "outputs": [
    {
     "data": {
      "text/plain": [
       "0       1\n",
       "1       1\n",
       "2       0\n",
       "3       1\n",
       "4       0\n",
       "       ..\n",
       "3995    0\n",
       "3996    0\n",
       "3997    1\n",
       "3998    0\n",
       "3999    0\n",
       "Name: Creditworthy, Length: 4000, dtype: int64"
      ]
     },
     "execution_count": 84,
     "metadata": {},
     "output_type": "execute_result"
    }
   ],
   "source": [
    "y"
   ]
  },
  {
   "cell_type": "code",
   "execution_count": 85,
   "id": "56456a7c",
   "metadata": {},
   "outputs": [
    {
     "name": "stdout",
     "output_type": "stream",
     "text": [
      "Train shape: (3200, 9) Test shape: (800, 9)\n",
      "Class distribution in Train:\n",
      " Creditworthy\n",
      "0    0.80625\n",
      "1    0.19375\n",
      "Name: proportion, dtype: float64\n"
     ]
    }
   ],
   "source": [
    "X_train, X_test, y_train, y_test = train_test_split(X, y, test_size=0.2, stratify=y, random_state=42)\n",
    "\n",
    "print(\"Train shape:\", X_train.shape, \"Test shape:\", X_test.shape)\n",
    "print(\"Class distribution in Train:\\n\", y_train.value_counts(normalize=True))"
   ]
  },
  {
   "cell_type": "markdown",
   "id": "179df299",
   "metadata": {},
   "source": [
    "Step 5:Model: Logistic Regression"
   ]
  },
  {
   "cell_type": "code",
   "execution_count": 86,
   "id": "60bd58c8",
   "metadata": {},
   "outputs": [
    {
     "name": "stdout",
     "output_type": "stream",
     "text": [
      "Logistic Regression\n",
      "[[608  37]\n",
      " [ 93  62]]\n",
      "              precision    recall  f1-score   support\n",
      "\n",
      "           0     0.8673    0.9426    0.9034       645\n",
      "           1     0.6263    0.4000    0.4882       155\n",
      "\n",
      "    accuracy                         0.8375       800\n",
      "   macro avg     0.7468    0.6713    0.6958       800\n",
      "weighted avg     0.8206    0.8375    0.8230       800\n",
      "\n"
     ]
    }
   ],
   "source": [
    "log_reg = LogisticRegression(max_iter=1000, random_state=42)\n",
    "log_reg.fit(X_train, y_train)\n",
    "\n",
    "# Predictions\n",
    "y_pred = log_reg.predict(X_test)\n",
    "\n",
    "print(\"Logistic Regression\")\n",
    "print(confusion_matrix(y_test, y_pred))\n",
    "print(classification_report(y_test, y_pred,digits=4))"
   ]
  },
  {
   "cell_type": "markdown",
   "id": "5cfa0a53",
   "metadata": {},
   "source": [
    "Step 6: Model: Decision Tree Classifier"
   ]
  },
  {
   "cell_type": "code",
   "execution_count": 87,
   "id": "6d279b0d",
   "metadata": {},
   "outputs": [
    {
     "name": "stdout",
     "output_type": "stream",
     "text": [
      "Decision Tree Classifier\n",
      "[[596  49]\n",
      " [ 47 108]]\n",
      "              precision    recall  f1-score   support\n",
      "\n",
      "           0     0.9269    0.9240    0.9255       645\n",
      "           1     0.6879    0.6968    0.6923       155\n",
      "\n",
      "    accuracy                         0.8800       800\n",
      "   macro avg     0.8074    0.8104    0.8089       800\n",
      "weighted avg     0.8806    0.8800    0.8803       800\n",
      "\n"
     ]
    }
   ],
   "source": [
    "dt_clf = DecisionTreeClassifier(max_depth=5, random_state=42)\n",
    "\n",
    "# Train on training data\n",
    "dt_clf.fit(X_train, y_train)\n",
    "\n",
    "# Predictions\n",
    "y_pred_dt = dt_clf.predict(X_test)\n",
    "\n",
    "print(\"Decision Tree Classifier\")\n",
    "print(confusion_matrix(y_test, y_pred_dt))\n",
    "print(classification_report(y_test, y_pred_dt, digits=4))"
   ]
  },
  {
   "cell_type": "markdown",
   "id": "ea102161",
   "metadata": {},
   "source": [
    "Step 7: Model: Random Forest Classifier"
   ]
  },
  {
   "cell_type": "code",
   "execution_count": 88,
   "id": "21d7cbee",
   "metadata": {},
   "outputs": [
    {
     "name": "stdout",
     "output_type": "stream",
     "text": [
      "Random Forest Classifier\n",
      "[[613  32]\n",
      " [ 64  91]]\n",
      "              precision    recall  f1-score   support\n",
      "\n",
      "           0     0.9055    0.9504    0.9274       645\n",
      "           1     0.7398    0.5871    0.6547       155\n",
      "\n",
      "    accuracy                         0.8800       800\n",
      "   macro avg     0.8227    0.7687    0.7910       800\n",
      "weighted avg     0.8734    0.8800    0.8745       800\n",
      "\n"
     ]
    }
   ],
   "source": [
    "rf_clf = RandomForestClassifier( random_state=42, n_estimators=100)\n",
    "\n",
    "# Train on training data\n",
    "rf_clf.fit(X_train, y_train)\n",
    "\n",
    "# Predictions\n",
    "y_pred_rf = rf_clf.predict(X_test)\n",
    "\n",
    "print(\"Random Forest Classifier\")\n",
    "print(confusion_matrix(y_test, y_pred_rf))\n",
    "print(classification_report(y_test, y_pred_rf, digits=4))"
   ]
  },
  {
   "cell_type": "markdown",
   "id": "fc0f66b4",
   "metadata": {},
   "source": [
    "Step 8: ROC Curves"
   ]
  },
  {
   "cell_type": "code",
   "execution_count": 89,
   "id": "02dd0fbc",
   "metadata": {},
   "outputs": [
    {
     "data": {
      "image/png": "[encoded data removed]",
      "text/plain": [
       "<Figure size 800x600 with 1 Axes>"
      ]
     },
     "metadata": {},
     "output_type": "display_data"
    }
   ],
   "source": [
    "# Get predicted probabilities for ROC curves\n",
    "y_proba_log = log_reg.predict_proba(X_test)[:,1]\n",
    "y_proba_dt = dt_clf.predict_proba(X_test)[:,1]\n",
    "y_proba_rf = rf_clf.predict_proba(X_test)[:,1]\n",
    "\n",
    "# Compute ROC curves\n",
    "fpr_log, tpr_log, _ = roc_curve(y_test, y_proba_log)\n",
    "fpr_dt, tpr_dt, _ = roc_curve(y_test, y_proba_dt)\n",
    "fpr_rf, tpr_rf, _ = roc_curve(y_test, y_proba_rf)\n",
    "\n",
    "# Compute AUC scores\n",
    "auc_log = auc(fpr_log, tpr_log)\n",
    "auc_dt = auc(fpr_dt, tpr_dt)\n",
    "auc_rf = auc(fpr_rf, tpr_rf)\n",
    "\n",
    "# Plot ROC curves\n",
    "plt.figure(figsize=(8,6))\n",
    "plt.plot(fpr_log, tpr_log, label=f\"Logistic Regression (AUC = {auc_log:.3f})\")\n",
    "plt.plot(fpr_dt, tpr_dt, label=f\"Decision Tree (AUC = {auc_dt:.3f})\")\n",
    "plt.plot(fpr_rf, tpr_rf, label=f\"Random Forest (AUC = {auc_rf:.3f})\")\n",
    "\n",
    "plt.plot([0,1], [0,1], 'k--')  # diagonal line\n",
    "plt.xlabel(\"False Positive Rate\")\n",
    "plt.ylabel(\"True Positive Rate\")\n",
    "plt.title(\"ROC Curves for Models\")\n",
    "plt.legend(loc=\"lower right\")\n",
    "plt.show()\n"
   ]
  },
  {
   "cell_type": "markdown",
   "id": "65329216",
   "metadata": {},
   "source": [
    "Step 9: Feature Importance (Random Forest)"
   ]
  },
  {
   "cell_type": "code",
   "execution_count": 90,
   "id": "cac8f9c1",
   "metadata": {},
   "outputs": [
    {
     "name": "stdout",
     "output_type": "stream",
     "text": [
      "Top Features by Importance:\n",
      "\n",
      "           Feature  Importance\n",
      "3      Loan_Amount    0.286087\n",
      "1             Debt    0.222856\n",
      "0           Income    0.159792\n",
      "8              Age    0.095928\n",
      "2  Payment_History    0.077405\n",
      "7   High_Loan_Flag    0.070798\n",
      "6   High_Debt_Flag    0.068728\n",
      "5   Loan_to_Income    0.011300\n",
      "4   Debt_to_Income    0.007106\n"
     ]
    },
    {
     "data": {
      "image/png": "[encoded data removed]",
      "text/plain": [
       "<Figure size 1000x600 with 1 Axes>"
      ]
     },
     "metadata": {},
     "output_type": "display_data"
    }
   ],
   "source": [
    "# Get feature importances from Random Forest\n",
    "importances = rf_clf.feature_importances_\n",
    "features = X.columns\n",
    "\n",
    "# Create DataFrame for better visualization\n",
    "feat_imp = pd.DataFrame({\n",
    "    \"Feature\": features,\n",
    "    \"Importance\": importances\n",
    "}).sort_values(by=\"Importance\", ascending=False)\n",
    "\n",
    "print(\"Top Features by Importance:\\n\")\n",
    "print(feat_imp.head(10))\n",
    "\n",
    "# Plot Feature Importance\n",
    "plt.figure(figsize=(10,6))\n",
    "sns.barplot(x=\"Importance\", y=\"Feature\", data=feat_imp.head(10))\n",
    "plt.title(\"Top 10 Important Features (Random Forest)\")\n",
    "plt.show()\n"
   ]
  },
  {
   "cell_type": "markdown",
   "id": "93f67807",
   "metadata": {},
   "source": [
    "Step 10: Save Models"
   ]
  },
  {
   "cell_type": "code",
   "execution_count": 91,
   "id": "556a7a10",
   "metadata": {},
   "outputs": [
    {
     "name": "stdout",
     "output_type": "stream",
     "text": [
      "✅ Models saved successfully!\n"
     ]
    }
   ],
   "source": [
    "# Save Logistic Regression\n",
    "joblib.dump(log_reg, \"logistic_regression_model.joblib\")\n",
    "\n",
    "# Save Decision Tree\n",
    "joblib.dump(dt_clf, \"decision_tree_model.joblib\")\n",
    "\n",
    "# Save Random Forest\n",
    "joblib.dump(rf_clf, \"random_forest_model.joblib\")\n",
    "\n",
    "print(\"✅ Models saved successfully!\")\n"
   ]
  }
 ],
 "metadata": {
  "kernelspec": {
   "display_name": "Python 3",
   "language": "python",
   "name": "python3"
  },
  "language_info": {
   "codemirror_mode": {
    "name": "ipython",
    "version": 3
   },
   "file_extension": ".py",
   "mimetype": "text/x-python",
   "name": "python",
   "nbconvert_exporter": "python",
   "pygments_lexer": "ipython3",
   "version": "3.13.7"
  }
 },
 "nbformat": 4,
 "nbformat_minor": 5
}
