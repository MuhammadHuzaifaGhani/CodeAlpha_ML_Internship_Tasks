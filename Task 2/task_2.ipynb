{
 "cells": [
  {
   "cell_type": "markdown",
   "id": "97063d64",
   "metadata": {},
   "source": [
    "TASK 2: Emotion Recognition from Speech"
   ]
  },
  {
   "cell_type": "markdown",
   "id": "7c13bf1b",
   "metadata": {},
   "source": [
    "Step 1: Import Libraries"
   ]
  },
  {
   "cell_type": "code",
   "execution_count": 1,
   "id": "2a2af404",
   "metadata": {},
   "outputs": [],
   "source": [
    "import os\n",
    "import librosa\n",
    "import numpy as np\n",
    "import pandas as pd\n",
    "import matplotlib.pyplot as plt\n",
    "import seaborn as sns\n",
    "from sklearn.model_selection import train_test_split\n",
    "from sklearn.preprocessing import LabelEncoder\n",
    "from tensorflow.keras.utils import to_categorical\n",
    "from tensorflow.keras.models import Sequential\n",
    "from tensorflow.keras.layers import LSTM, Dense, Dropout\n"
   ]
  },
  {
   "cell_type": "markdown",
   "id": "9b019a76",
   "metadata": {},
   "source": [
    "Step 2: Load Dataset (TESS)"
   ]
  },
  {
   "cell_type": "code",
   "execution_count": 2,
   "id": "25e66228",
   "metadata": {},
   "outputs": [
    {
     "name": "stdout",
     "output_type": "stream",
     "text": [
      "                                                  path emotion\n",
      "0    C:\\Users\\1 Click\\Desktop\\CodeAlpha\\archive\\TES...   angry\n",
      "1    C:\\Users\\1 Click\\Desktop\\CodeAlpha\\archive\\TES...   angry\n",
      "2    C:\\Users\\1 Click\\Desktop\\CodeAlpha\\archive\\TES...   angry\n",
      "3    C:\\Users\\1 Click\\Desktop\\CodeAlpha\\archive\\TES...   angry\n",
      "4    C:\\Users\\1 Click\\Desktop\\CodeAlpha\\archive\\TES...   angry\n",
      "..                                                 ...     ...\n",
      "495  C:\\Users\\1 Click\\Desktop\\CodeAlpha\\archive\\TES...    fear\n",
      "496  C:\\Users\\1 Click\\Desktop\\CodeAlpha\\archive\\TES...    fear\n",
      "497  C:\\Users\\1 Click\\Desktop\\CodeAlpha\\archive\\TES...    fear\n",
      "498  C:\\Users\\1 Click\\Desktop\\CodeAlpha\\archive\\TES...    fear\n",
      "499  C:\\Users\\1 Click\\Desktop\\CodeAlpha\\archive\\TES...    fear\n",
      "\n",
      "[500 rows x 2 columns]\n"
     ]
    }
   ],
   "source": [
    "# Path to your TESS dataset folder\n",
    "DATASET_PATH = \"C:\\\\Users\\\\1 Click\\\\Desktop\\\\CodeAlpha\\\\archive\\\\TESS Toronto emotional speech set data\"\n",
    "# \"/content/TESS_Toronto_emotional_speech_set\"\n",
    "\n",
    "# Function to extract label from file name\n",
    "def get_emotion_from_filename(filename):\n",
    "    # Example: 'OAF_angry.wav' -> 'angry'\n",
    "    return filename.split('_')[-1].replace('.wav', '')\n",
    "\n",
    "# Collect file paths and labels\n",
    "file_paths = []\n",
    "labels = []\n",
    "\n",
    "for root, dirs, files in os.walk(DATASET_PATH):\n",
    "    for file in files:\n",
    "        if file.endswith(\".wav\"):\n",
    "            file_paths.append(os.path.join(root, file))\n",
    "            labels.append(get_emotion_from_filename(file))\n",
    "\n",
    "# Create dataframe\n",
    "data = pd.DataFrame({\"path\": file_paths, \"emotion\": labels})\n",
    "print(data.head(500))\n"
   ]
  },
  {
   "cell_type": "code",
   "execution_count": 3,
   "id": "30dbb612",
   "metadata": {},
   "outputs": [
    {
     "data": {
      "text/plain": [
       "emotion\n",
       "angry      800\n",
       "disgust    800\n",
       "fear       800\n",
       "happy      800\n",
       "neutral    800\n",
       "ps         800\n",
       "sad        800\n",
       "Name: count, dtype: int64"
      ]
     },
     "execution_count": 3,
     "metadata": {},
     "output_type": "execute_result"
    }
   ],
   "source": [
    "data[\"emotion\"].value_counts()"
   ]
  },
  {
   "cell_type": "markdown",
   "id": "7832d532",
   "metadata": {},
   "source": [
    "Step 3:Explore Data Analysis"
   ]
  },
  {
   "cell_type": "code",
   "execution_count": 4,
   "id": "def1cddf",
   "metadata": {},
   "outputs": [
    {
     "data": {
      "image/png": "[encoded data removed]",
      "text/plain": [
       "<Figure size 640x480 with 1 Axes>"
      ]
     },
     "metadata": {},
     "output_type": "display_data"
    }
   ],
   "source": [
    "sns.countplot(x='emotion', data=data)\n",
    "plt.show()"
   ]
  },
  {
   "cell_type": "markdown",
   "id": "25358652",
   "metadata": {},
   "source": [
    "Step 4: Feature Extraction (MFCCs)"
   ]
  },
  {
   "cell_type": "code",
   "execution_count": 5,
   "id": "3b584e5a",
   "metadata": {},
   "outputs": [
    {
     "name": "stdout",
     "output_type": "stream",
     "text": [
      "Requirement already satisfied: resampy in c:\\users\\1 click\\appdata\\local\\programs\\python\\python313\\lib\\site-packages (0.4.3)\n",
      "Requirement already satisfied: numpy>=1.17 in c:\\users\\1 click\\appdata\\local\\programs\\python\\python313\\lib\\site-packages (from resampy) (2.2.6)\n",
      "Requirement already satisfied: numba>=0.53 in c:\\users\\1 click\\appdata\\local\\programs\\python\\python313\\lib\\site-packages (from resampy) (0.61.2)\n",
      "Requirement already satisfied: llvmlite<0.45,>=0.44.0dev0 in c:\\users\\1 click\\appdata\\local\\programs\\python\\python313\\lib\\site-packages (from numba>=0.53->resampy) (0.44.0)\n",
      "Note: you may need to restart the kernel to use updated packages.\n",
      "Feature shape: (5600, 40, 174)\n"
     ]
    }
   ],
   "source": [
    "%pip install resampy\n",
    "\n",
    "def extract_features(file_path, max_pad_len=174):\n",
    "    # Load audio\n",
    "    audio, sample_rate = librosa.load(file_path, res_type='kaiser_fast') \n",
    "    \n",
    "    # Extract MFCCs\n",
    "    mfccs = librosa.feature.mfcc(y=audio, sr=sample_rate, n_mfcc=40)\n",
    "    \n",
    "    # Pad or truncate to fixed length\n",
    "    if mfccs.shape[1] < max_pad_len:\n",
    "        pad_width = max_pad_len - mfccs.shape[1]\n",
    "        mfccs = np.pad(mfccs, pad_width=((0, 0), (0, pad_width)), mode='constant')\n",
    "    else:\n",
    "        mfccs = mfccs[:, :max_pad_len]\n",
    "    \n",
    "    return mfccs\n",
    "\n",
    "# Apply feature extraction\n",
    "X = []\n",
    "for path in data['path']:\n",
    "    features = extract_features(path)\n",
    "    X.append(features)\n",
    "\n",
    "X = np.array(X)\n",
    "print(\"Feature shape:\", X.shape)\n",
    "\n",
    "\n"
   ]
  },
  {
   "cell_type": "markdown",
   "id": "a285e9f4",
   "metadata": {},
   "source": [
    "Step 5: Encode Labels"
   ]
  },
  {
   "cell_type": "code",
   "execution_count": 6,
   "id": "81610ff3",
   "metadata": {},
   "outputs": [
    {
     "name": "stdout",
     "output_type": "stream",
     "text": [
      "Classes: ['angry' 'disgust' 'fear' 'happy' 'neutral' 'ps' 'sad']\n",
      "y shape: (5600, 7)\n"
     ]
    }
   ],
   "source": [
    "# Encode string labels (happy, sad, angry, etc.) to numbers\n",
    "lb = LabelEncoder()\n",
    "y = lb.fit_transform(data['emotion'])\n",
    "y = to_categorical(y)\n",
    "\n",
    "print(\"Classes:\", lb.classes_)\n",
    "print(\"y shape:\", y.shape)\n"
   ]
  },
  {
   "cell_type": "markdown",
   "id": "fa4fe250",
   "metadata": {},
   "source": [
    "Step 6: Train-Test Split"
   ]
  },
  {
   "cell_type": "code",
   "execution_count": 7,
   "id": "eae85d83",
   "metadata": {},
   "outputs": [
    {
     "name": "stdout",
     "output_type": "stream",
     "text": [
      "Train shape: (4480, 174, 40)\n",
      "Test shape: (1120, 174, 40)\n"
     ]
    }
   ],
   "source": [
    "X_train, X_test, y_train, y_test = train_test_split(X, y, test_size=0.2, random_state=42)\n",
    "\n",
    "# LSTM expects 3D input (samples, timesteps, features)\n",
    "X_train = X_train.reshape(X_train.shape[0], X_train.shape[2], X_train.shape[1])\n",
    "X_test = X_test.reshape(X_test.shape[0], X_test.shape[2], X_test.shape[1])\n",
    "\n",
    "print(\"Train shape:\", X_train.shape)\n",
    "print(\"Test shape:\", X_test.shape)\n"
   ]
  },
  {
   "cell_type": "markdown",
   "id": "5527ab1c",
   "metadata": {},
   "source": [
    "Step 7: Build LSTM Model"
   ]
  },
  {
   "cell_type": "code",
   "execution_count": 8,
   "id": "b3730765",
   "metadata": {},
   "outputs": [
    {
     "name": "stderr",
     "output_type": "stream",
     "text": [
      "c:\\Users\\1 Click\\AppData\\Local\\Programs\\Python\\Python313\\Lib\\site-packages\\keras\\src\\layers\\rnn\\rnn.py:199: UserWarning: Do not pass an `input_shape`/`input_dim` argument to a layer. When using Sequential models, prefer using an `Input(shape)` object as the first layer in the model instead.\n",
      "  super().__init__(**kwargs)\n"
     ]
    },
    {
     "data": {
      "text/html": [
       "<pre style=\"white-space:pre;overflow-x:auto;line-height:normal;font-family:Menlo,'DejaVu Sans Mono',consolas,'Courier New',monospace\"><span style=\"font-weight: bold\">Model: \"sequential\"</span>\n",
       "</pre>\n"
      ],
      "text/plain": [
       "\u001b[1mModel: \"sequential\"\u001b[0m\n"
      ]
     },
     "metadata": {},
     "output_type": "display_data"
    },
    {
     "data": {
      "text/html": [
       "<pre style=\"white-space:pre;overflow-x:auto;line-height:normal;font-family:Menlo,'DejaVu Sans Mono',consolas,'Courier New',monospace\">┏━━━━━━━━━━━━━━━━━━━━━━━━━━━━━━━━━┳━━━━━━━━━━━━━━━━━━━━━━━━┳━━━━━━━━━━━━━━━┓\n",
       "┃<span style=\"font-weight: bold\"> Layer (type)                    </span>┃<span style=\"font-weight: bold\"> Output Shape           </span>┃<span style=\"font-weight: bold\">       Param # </span>┃\n",
       "┡━━━━━━━━━━━━━━━━━━━━━━━━━━━━━━━━━╇━━━━━━━━━━━━━━━━━━━━━━━━╇━━━━━━━━━━━━━━━┩\n",
       "│ lstm (<span style=\"color: #0087ff; text-decoration-color: #0087ff\">LSTM</span>)                     │ (<span style=\"color: #00d7ff; text-decoration-color: #00d7ff\">None</span>, <span style=\"color: #00af00; text-decoration-color: #00af00\">128</span>)            │        <span style=\"color: #00af00; text-decoration-color: #00af00\">86,528</span> │\n",
       "├─────────────────────────────────┼────────────────────────┼───────────────┤\n",
       "│ dropout (<span style=\"color: #0087ff; text-decoration-color: #0087ff\">Dropout</span>)               │ (<span style=\"color: #00d7ff; text-decoration-color: #00d7ff\">None</span>, <span style=\"color: #00af00; text-decoration-color: #00af00\">128</span>)            │             <span style=\"color: #00af00; text-decoration-color: #00af00\">0</span> │\n",
       "├─────────────────────────────────┼────────────────────────┼───────────────┤\n",
       "│ dense (<span style=\"color: #0087ff; text-decoration-color: #0087ff\">Dense</span>)                   │ (<span style=\"color: #00d7ff; text-decoration-color: #00d7ff\">None</span>, <span style=\"color: #00af00; text-decoration-color: #00af00\">64</span>)             │         <span style=\"color: #00af00; text-decoration-color: #00af00\">8,256</span> │\n",
       "├─────────────────────────────────┼────────────────────────┼───────────────┤\n",
       "│ dropout_1 (<span style=\"color: #0087ff; text-decoration-color: #0087ff\">Dropout</span>)             │ (<span style=\"color: #00d7ff; text-decoration-color: #00d7ff\">None</span>, <span style=\"color: #00af00; text-decoration-color: #00af00\">64</span>)             │             <span style=\"color: #00af00; text-decoration-color: #00af00\">0</span> │\n",
       "├─────────────────────────────────┼────────────────────────┼───────────────┤\n",
       "│ dense_1 (<span style=\"color: #0087ff; text-decoration-color: #0087ff\">Dense</span>)                 │ (<span style=\"color: #00d7ff; text-decoration-color: #00d7ff\">None</span>, <span style=\"color: #00af00; text-decoration-color: #00af00\">7</span>)              │           <span style=\"color: #00af00; text-decoration-color: #00af00\">455</span> │\n",
       "└─────────────────────────────────┴────────────────────────┴───────────────┘\n",
       "</pre>\n"
      ],
      "text/plain": [
       "┏━━━━━━━━━━━━━━━━━━━━━━━━━━━━━━━━━┳━━━━━━━━━━━━━━━━━━━━━━━━┳━━━━━━━━━━━━━━━┓\n",
       "┃\u001b[1m \u001b[0m\u001b[1mLayer (type)                   \u001b[0m\u001b[1m \u001b[0m┃\u001b[1m \u001b[0m\u001b[1mOutput Shape          \u001b[0m\u001b[1m \u001b[0m┃\u001b[1m \u001b[0m\u001b[1m      Param #\u001b[0m\u001b[1m \u001b[0m┃\n",
       "┡━━━━━━━━━━━━━━━━━━━━━━━━━━━━━━━━━╇━━━━━━━━━━━━━━━━━━━━━━━━╇━━━━━━━━━━━━━━━┩\n",
       "│ lstm (\u001b[38;5;33mLSTM\u001b[0m)                     │ (\u001b[38;5;45mNone\u001b[0m, \u001b[38;5;34m128\u001b[0m)            │        \u001b[38;5;34m86,528\u001b[0m │\n",
       "├─────────────────────────────────┼────────────────────────┼───────────────┤\n",
       "│ dropout (\u001b[38;5;33mDropout\u001b[0m)               │ (\u001b[38;5;45mNone\u001b[0m, \u001b[38;5;34m128\u001b[0m)            │             \u001b[38;5;34m0\u001b[0m │\n",
       "├─────────────────────────────────┼────────────────────────┼───────────────┤\n",
       "│ dense (\u001b[38;5;33mDense\u001b[0m)                   │ (\u001b[38;5;45mNone\u001b[0m, \u001b[38;5;34m64\u001b[0m)             │         \u001b[38;5;34m8,256\u001b[0m │\n",
       "├─────────────────────────────────┼────────────────────────┼───────────────┤\n",
       "│ dropout_1 (\u001b[38;5;33mDropout\u001b[0m)             │ (\u001b[38;5;45mNone\u001b[0m, \u001b[38;5;34m64\u001b[0m)             │             \u001b[38;5;34m0\u001b[0m │\n",
       "├─────────────────────────────────┼────────────────────────┼───────────────┤\n",
       "│ dense_1 (\u001b[38;5;33mDense\u001b[0m)                 │ (\u001b[38;5;45mNone\u001b[0m, \u001b[38;5;34m7\u001b[0m)              │           \u001b[38;5;34m455\u001b[0m │\n",
       "└─────────────────────────────────┴────────────────────────┴───────────────┘\n"
      ]
     },
     "metadata": {},
     "output_type": "display_data"
    },
    {
     "data": {
      "text/html": [
       "<pre style=\"white-space:pre;overflow-x:auto;line-height:normal;font-family:Menlo,'DejaVu Sans Mono',consolas,'Courier New',monospace\"><span style=\"font-weight: bold\"> Total params: </span><span style=\"color: #00af00; text-decoration-color: #00af00\">95,239</span> (372.03 KB)\n",
       "</pre>\n"
      ],
      "text/plain": [
       "\u001b[1m Total params: \u001b[0m\u001b[38;5;34m95,239\u001b[0m (372.03 KB)\n"
      ]
     },
     "metadata": {},
     "output_type": "display_data"
    },
    {
     "data": {
      "text/html": [
       "<pre style=\"white-space:pre;overflow-x:auto;line-height:normal;font-family:Menlo,'DejaVu Sans Mono',consolas,'Courier New',monospace\"><span style=\"font-weight: bold\"> Trainable params: </span><span style=\"color: #00af00; text-decoration-color: #00af00\">95,239</span> (372.03 KB)\n",
       "</pre>\n"
      ],
      "text/plain": [
       "\u001b[1m Trainable params: \u001b[0m\u001b[38;5;34m95,239\u001b[0m (372.03 KB)\n"
      ]
     },
     "metadata": {},
     "output_type": "display_data"
    },
    {
     "data": {
      "text/html": [
       "<pre style=\"white-space:pre;overflow-x:auto;line-height:normal;font-family:Menlo,'DejaVu Sans Mono',consolas,'Courier New',monospace\"><span style=\"font-weight: bold\"> Non-trainable params: </span><span style=\"color: #00af00; text-decoration-color: #00af00\">0</span> (0.00 B)\n",
       "</pre>\n"
      ],
      "text/plain": [
       "\u001b[1m Non-trainable params: \u001b[0m\u001b[38;5;34m0\u001b[0m (0.00 B)\n"
      ]
     },
     "metadata": {},
     "output_type": "display_data"
    }
   ],
   "source": [
    "from tensorflow.keras.models import Sequential\n",
    "from tensorflow.keras.layers import LSTM, Dense, Dropout\n",
    "\n",
    "model = Sequential()\n",
    "model.add(LSTM(128, return_sequences=False, input_shape=(X_train.shape[1], X_train.shape[2])))\n",
    "model.add(Dropout(0.3))\n",
    "model.add(Dense(64, activation='relu'))\n",
    "model.add(Dropout(0.3))\n",
    "model.add(Dense(y.shape[1], activation='softmax'))\n",
    "\n",
    "model.compile(loss='categorical_crossentropy', optimizer='adam', metrics=['accuracy'])\n",
    "model.summary()\n",
    "\n",
    "\n"
   ]
  },
  {
   "cell_type": "markdown",
   "id": "fcd98441",
   "metadata": {},
   "source": [
    "Step 8: Train Model"
   ]
  },
  {
   "cell_type": "code",
   "execution_count": 9,
   "id": "a4c43232",
   "metadata": {},
   "outputs": [
    {
     "name": "stdout",
     "output_type": "stream",
     "text": [
      "Epoch 1/8\n",
      "\u001b[1m140/140\u001b[0m \u001b[32m━━━━━━━━━━━━━━━━━━━━\u001b[0m\u001b[37m\u001b[0m \u001b[1m22s\u001b[0m 133ms/step - accuracy: 0.4375 - loss: 1.4601 - val_accuracy: 0.7571 - val_loss: 0.7021\n",
      "Epoch 2/8\n",
      "\u001b[1m140/140\u001b[0m \u001b[32m━━━━━━━━━━━━━━━━━━━━\u001b[0m\u001b[37m\u001b[0m \u001b[1m19s\u001b[0m 139ms/step - accuracy: 0.8199 - loss: 0.5269 - val_accuracy: 0.8866 - val_loss: 0.3286\n",
      "Epoch 3/8\n",
      "\u001b[1m140/140\u001b[0m \u001b[32m━━━━━━━━━━━━━━━━━━━━\u001b[0m\u001b[37m\u001b[0m \u001b[1m20s\u001b[0m 140ms/step - accuracy: 0.9205 - loss: 0.2403 - val_accuracy: 0.9473 - val_loss: 0.1511\n",
      "Epoch 4/8\n",
      "\u001b[1m140/140\u001b[0m \u001b[32m━━━━━━━━━━━━━━━━━━━━\u001b[0m\u001b[37m\u001b[0m \u001b[1m30s\u001b[0m 217ms/step - accuracy: 0.9525 - loss: 0.1502 - val_accuracy: 0.9634 - val_loss: 0.1375\n",
      "Epoch 5/8\n",
      "\u001b[1m140/140\u001b[0m \u001b[32m━━━━━━━━━━━━━━━━━━━━\u001b[0m\u001b[37m\u001b[0m \u001b[1m22s\u001b[0m 154ms/step - accuracy: 0.9730 - loss: 0.0972 - val_accuracy: 0.9732 - val_loss: 0.1034\n",
      "Epoch 6/8\n",
      "\u001b[1m140/140\u001b[0m \u001b[32m━━━━━━━━━━━━━━━━━━━━\u001b[0m\u001b[37m\u001b[0m \u001b[1m20s\u001b[0m 141ms/step - accuracy: 0.9844 - loss: 0.0559 - val_accuracy: 0.9643 - val_loss: 0.1091\n",
      "Epoch 7/8\n",
      "\u001b[1m140/140\u001b[0m \u001b[32m━━━━━━━━━━━━━━━━━━━━\u001b[0m\u001b[37m\u001b[0m \u001b[1m19s\u001b[0m 139ms/step - accuracy: 0.9826 - loss: 0.0565 - val_accuracy: 0.9714 - val_loss: 0.0974\n",
      "Epoch 8/8\n",
      "\u001b[1m140/140\u001b[0m \u001b[32m━━━━━━━━━━━━━━━━━━━━\u001b[0m\u001b[37m\u001b[0m \u001b[1m25s\u001b[0m 177ms/step - accuracy: 0.9797 - loss: 0.0663 - val_accuracy: 0.9571 - val_loss: 0.1842\n"
     ]
    }
   ],
   "source": [
    "history = model.fit(X_train, y_train, validation_data=(X_test, y_test), \n",
    "                    epochs=8, batch_size=32)\n"
   ]
  },
  {
   "cell_type": "markdown",
   "id": "ef24d961",
   "metadata": {},
   "source": [
    "Step 9: Evaluate Model"
   ]
  },
  {
   "cell_type": "code",
   "execution_count": 10,
   "id": "179f243a",
   "metadata": {},
   "outputs": [
    {
     "name": "stdout",
     "output_type": "stream",
     "text": [
      "✅ Test Accuracy: 95.71%\n"
     ]
    }
   ],
   "source": [
    "loss, acc = model.evaluate(X_test, y_test, verbose=0)\n",
    "print(f\"✅ Test Accuracy: {acc*100:.2f}%\")\n"
   ]
  },
  {
   "cell_type": "markdown",
   "id": "1f3f9011",
   "metadata": {},
   "source": [
    "Step 10: Predict Emotion for New Audio"
   ]
  },
  {
   "cell_type": "code",
   "execution_count": 11,
   "id": "7534006f",
   "metadata": {},
   "outputs": [
    {
     "name": "stdout",
     "output_type": "stream",
     "text": [
      "\u001b[1m1/1\u001b[0m \u001b[32m━━━━━━━━━━━━━━━━━━━━\u001b[0m\u001b[37m\u001b[0m \u001b[1m0s\u001b[0m 241ms/step\n",
      "Prediction: angry\n"
     ]
    }
   ],
   "source": [
    "def predict_emotion(file_path):\n",
    "    feature = extract_features(file_path)\n",
    "    feature = feature.reshape(1, feature.shape[1], feature.shape[0])\n",
    "    prediction = model.predict(feature)\n",
    "    emotion = lb.inverse_transform([np.argmax(prediction)])\n",
    "    return emotion[0]\n",
    "\n",
    "# Example: predict first file\n",
    "print(\"Prediction:\", predict_emotion(file_paths[0]))\n"
   ]
  },
  {
   "cell_type": "code",
   "execution_count": 12,
   "id": "37d5ecbe",
   "metadata": {},
   "outputs": [
    {
     "name": "stdout",
     "output_type": "stream",
     "text": [
      "C:\\Users\\1 Click\\Desktop\\CodeAlpha\\archive\\TESS Toronto emotional speech set data\\OAF_angry\\OAF_back_angry.wav\n",
      "\u001b[1m1/1\u001b[0m \u001b[32m━━━━━━━━━━━━━━━━━━━━\u001b[0m\u001b[37m\u001b[0m \u001b[1m0s\u001b[0m 63ms/step\n",
      "Prediction: fear\n"
     ]
    }
   ],
   "source": [
    "print(file_paths[0])\n",
    "print(\"Prediction:\", predict_emotion(file_paths[499]))"
   ]
  },
  {
   "cell_type": "code",
   "execution_count": 14,
   "id": "06c339d7",
   "metadata": {},
   "outputs": [
    {
     "name": "stderr",
     "output_type": "stream",
     "text": [
      "WARNING:absl:You are saving your model as an HDF5 file via `model.save()` or `keras.saving.save_model(model)`. This file format is considered legacy. We recommend using instead the native Keras format, e.g. `model.save('my_model.keras')` or `keras.saving.save_model(model, 'my_model.keras')`. \n"
     ]
    },
    {
     "data": {
      "text/plain": [
       "['label_encoder.pkl']"
      ]
     },
     "execution_count": 14,
     "metadata": {},
     "output_type": "execute_result"
    }
   ],
   "source": [
    "import joblib\n",
    "\n",
    "model.save(\"emotion_model.h5\")\n",
    "joblib.dump(lb, \"label_encoder.pkl\")\n"
   ]
  }
 ],
 "metadata": {
  "kernelspec": {
   "display_name": "Python 3",
   "language": "python",
   "name": "python3"
  },
  "language_info": {
   "codemirror_mode": {
    "name": "ipython",
    "version": 3
   },
   "file_extension": ".py",
   "mimetype": "text/x-python",
   "name": "python",
   "nbconvert_exporter": "python",
   "pygments_lexer": "ipython3",
   "version": "3.13.7"
  }
 },
 "nbformat": 4,
 "nbformat_minor": 5
}
